{
 "cells": [
  {
   "cell_type": "code",
   "execution_count": 1,
   "metadata": {},
   "outputs": [
    {
     "name": "stderr",
     "output_type": "stream",
     "text": [
      "WARNING:absl:Compiled the loaded model, but the compiled metrics have yet to be built. `model.compile_metrics` will be empty until you train or evaluate the model.\n"
     ]
    },
    {
     "name": "stdout",
     "output_type": "stream",
     "text": [
      "\u001b[1m12500/12500\u001b[0m \u001b[32m━━━━━━━━━━━━━━━━━━━━\u001b[0m\u001b[37m\u001b[0m \u001b[1m153s\u001b[0m 12ms/step\n",
      "\n",
      "📋 LSTM Classification Report:\n"
     ]
    },
    {
     "name": "stderr",
     "output_type": "stream",
     "text": [
      "/opt/homebrew/Caskroom/miniforge/base/envs/tf-m1/lib/python3.9/site-packages/sklearn/metrics/_classification.py:1565: UndefinedMetricWarning: Precision is ill-defined and being set to 0.0 in labels with no predicted samples. Use `zero_division` parameter to control this behavior.\n",
      "  _warn_prf(average, modifier, f\"{metric.capitalize()} is\", len(result))\n",
      "/opt/homebrew/Caskroom/miniforge/base/envs/tf-m1/lib/python3.9/site-packages/sklearn/metrics/_classification.py:1565: UndefinedMetricWarning: Precision is ill-defined and being set to 0.0 in labels with no predicted samples. Use `zero_division` parameter to control this behavior.\n",
      "  _warn_prf(average, modifier, f\"{metric.capitalize()} is\", len(result))\n",
      "/opt/homebrew/Caskroom/miniforge/base/envs/tf-m1/lib/python3.9/site-packages/sklearn/metrics/_classification.py:1565: UndefinedMetricWarning: Precision is ill-defined and being set to 0.0 in labels with no predicted samples. Use `zero_division` parameter to control this behavior.\n",
      "  _warn_prf(average, modifier, f\"{metric.capitalize()} is\", len(result))\n"
     ]
    },
    {
     "name": "stdout",
     "output_type": "stream",
     "text": [
      "              precision    recall  f1-score   support\n",
      "\n",
      "           1       0.50      1.00      0.67    200000\n",
      "           2       0.00      0.00      0.00    199999\n",
      "\n",
      "    accuracy                           0.50    399999\n",
      "   macro avg       0.25      0.50      0.33    399999\n",
      "weighted avg       0.25      0.50      0.33    399999\n",
      "\n",
      "✅ Predictions saved to 'lstm_predictions.csv'\n"
     ]
    }
   ],
   "source": [
    "import re\n",
    "import pickle\n",
    "import numpy as np\n",
    "import pandas as pd\n",
    "from sklearn.metrics import classification_report\n",
    "from tensorflow.keras.models import load_model\n",
    "from tensorflow.keras.preprocessing.sequence import pad_sequences\n",
    "\n",
    "# Load tokenizer\n",
    "with open(\"tokenizer.pkl\", \"rb\") as f:\n",
    "    tokenizer = pickle.load(f)\n",
    "\n",
    "# Load trained LSTM model\n",
    "model = load_model(\"lstm_model.h5\")\n",
    "\n",
    "# Load and clean test data\n",
    "df = pd.read_csv(\"test.csv\")\n",
    "df.columns = ['overall', 'title', 'reviewText']\n",
    "df.dropna(subset=['reviewText'], inplace=True)\n",
    "df['sentiment'] = df['overall'].apply(lambda r: 'negative' if r == 1 else 'positive')\n",
    "\n",
    "# Clean text\n",
    "def clean_text(text):\n",
    "    text = re.sub(r'[^a-zA-Z\\s]', '', str(text))\n",
    "    text = text.lower().split()\n",
    "    return ' '.join(text)\n",
    "\n",
    "df['cleaned_review'] = df['reviewText'].apply(clean_text)\n",
    "\n",
    "# Tokenize and pad\n",
    "X_text = df['cleaned_review'].tolist()\n",
    "X_seq = tokenizer.texts_to_sequences(X_text)\n",
    "X_pad = pad_sequences(X_seq, maxlen=100, padding='post', truncating='post')\n",
    "\n",
    "# Predict\n",
    "y_probs = model.predict(X_pad)\n",
    "y_pred = np.argmax(y_probs, axis=1)\n",
    "y_pred = ['negative' if i == 0 else 'positive' for i in y_pred]\n",
    "df['lstm_prediction'] = y_pred\n",
    "\n",
    "# Evaluation\n",
    "y_true = df['sentiment'].tolist()\n",
    "label_map = {'negative': 1, 'positive': 2}\n",
    "y_true_num = [label_map[y] for y in y_true]\n",
    "y_pred_num = [label_map[y] for y in y_pred]\n",
    "\n",
    "print(\"\\n📋 LSTM Classification Report:\")\n",
    "print(classification_report(y_true_num, y_pred_num))\n",
    "\n",
    "# Save predictions\n",
    "df.to_csv(\"lstm_predictions.csv\", index=False)\n",
    "print(\"✅ Predictions saved to 'lstm_predictions.csv'\")\n"
   ]
  }
 ],
 "metadata": {
  "kernelspec": {
   "display_name": "tf-m1",
   "language": "python",
   "name": "python3"
  },
  "language_info": {
   "codemirror_mode": {
    "name": "ipython",
    "version": 3
   },
   "file_extension": ".py",
   "mimetype": "text/x-python",
   "name": "python",
   "nbconvert_exporter": "python",
   "pygments_lexer": "ipython3",
   "version": "3.9.21"
  }
 },
 "nbformat": 4,
 "nbformat_minor": 2
}
